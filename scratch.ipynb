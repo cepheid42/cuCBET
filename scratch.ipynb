{
 "cells": [
  {
   "cell_type": "code",
   "execution_count": 1,
   "metadata": {},
   "outputs": [],
   "source": [
    "import numpy as np\n",
    "import matplotlib.pyplot as plt\n",
    "import mpl_toolkits.mplot3d.axes3d as a3d\n",
    "%matplotlib inline"
   ]
  },
  {
   "cell_type": "code",
   "execution_count": null,
   "metadata": {},
   "outputs": [],
   "source": [
    "beam1 = np.loadtxt('./beam1.csv', dtype=np.float32).reshape((128, 3, 3))\n",
    "beam2 = np.loadtxt('./beam2.csv', dtype=np.float32).reshape((128, 3, 3))\n",
    "beam3 = np.loadtxt('./beam3.csv', dtype=np.float32).reshape((128, 3, 3))"
   ]
  },
  {
   "cell_type": "code",
   "execution_count": null,
   "metadata": {},
   "outputs": [],
   "source": [
    "fig = plt.figure(figsize=(12, 10))\n",
    "ax = fig.add_subplot(111, projection='3d')\n",
    "ax.set_xlabel('x')\n",
    "ax.set_ylabel('y')\n",
    "ax.set_zlabel('z')\n",
    "# ax.set_xlim((-1.0, 0.25))\n",
    "# ax.set_ylim((-1.0, 0.25))\n",
    "# ax.set_zlim((-0.25, 1.0))\n",
    "\n",
    "# ax.view_init(elev=90, azim=-90)\n",
    "\n",
    "for r in range(128):\n",
    "  ax.scatter(beam1[r, 0, 0], beam1[r, 0, 1], beam1[r, 0, 2], color='r', s=2)\n",
    "  ax.scatter(beam2[r, 0, 0], beam2[r, 0, 1], beam2[r, 0, 2], color='r', s=2)\n",
    "  ax.scatter(beam3[r, 0, 0], beam3[r, 0, 1], beam3[r, 0, 2], color='r', s=2)\n",
    "  ax.plot(beam1[r, :, 0], beam1[r, :, 1], beam1[r, :, 2], 'b')\n",
    "  ax.plot(beam2[r, :, 0], beam2[r, :, 1], beam2[r, :, 2], 'm')\n",
    "  ax.plot(beam3[r, :, 0], beam3[r, :, 1], beam3[r, :, 2], 'c')"
   ]
  },
  {
   "cell_type": "code",
   "execution_count": 8,
   "metadata": {},
   "outputs": [],
   "source": [
    "b_norms = np.asarray(\n",
    "  [[-1.0, 0.0, 0.0], [0.0, -1.0, 0.0],  [-0.347252784,  -0.782219564,\t0.517250479],\n",
    "  [0.393457551, 0.541547875,\t0.742911202], [0.636627669,0.206852872,\t-0.742911233], \n",
    "  [0.347252811,0.782219525,\t-0.517250519], [0.851239679,-0.502239228,\t0.152140616],\n",
    "  [0.740705521,-0.654376459,\t-0.152140661], [0.347250266,-0.112828417,\t0.930960257],\n",
    "  [0.214610424,0.96477748,\t-0.152140661], [0.214612459,-0.295388659,\t-0.930960274],\n",
    "  [0.740710551,0.428718814,\t0.517250479], [0.74071057,-0.428718733,\t-0.517250519],\n",
    "  [0.214612457,0.295388714,\t0.930960257], [0.636627941,0.571976193,\t-0.517250519],\n",
    "  [0.393458463,0.90666624,\t0.152140616], [-8.47266E-09,0.365120484,\t-0.930960274],\n",
    "  [4.65998E-08,-0.66938998,\t0.742911202], [0.851239626,0.502239303,\t-0.152140661],\n",
    "  [0.636628012,-0.57197615,\t0.517250479], [0.347250215,\t0.112828436,\t-0.930960274],\n",
    "  [0.636627721,\t-0.206852824,\t0.742911202], [0.740705466,\t0.654376532,\t0.152140616],\n",
    "  [0.347252893,\t-0.782219515,\t0.517250479], [0.393458544,\t-0.906666197,\t-0.152140661],\n",
    "  [0.983876179,\t0.094025976,\t-0.152140661], [0.214610515,\t-0.964777466,\t0.152140616],\n",
    "  [0.983876194,\t-0.094025886,\t0.152140616], [0.178843722,\t-0.836938961,\t-0.517250519],\n",
    "  [0.851242003,\t-0.088537859,\t-0.517250519], [0.851242019,\t0.08853794,\t0.517250479],\n",
    "  [-0.983876181,\t-0.094026023,\t0.152140616], [-0.214610381,\t-0.964777496,\t0.152140616],\n",
    "  [-0.983876183,\t0.094025931,\t-0.152140661], [-0.178843606,\t-0.836938985,\t-0.517250519],\n",
    "  [-0.851241991,\t-0.088537977,\t-0.517250519], [-0.34725022,\t0.11282842,\t-0.930960274],\n",
    "  [2.5418E-08,\t-0.365120527,\t0.930960257], [-0.740705496,\t0.654376498,\t0.152140616],\n",
    "  [-0.393458418,\t-0.906666252,\t-0.152140661], [-1.55333E-08,\t0.669389946,\t-0.742911233],\n",
    "  [-0.740710511,\t-0.428718836,\t-0.517250519], [-0.636627932,\t-0.571976239,\t0.517250479],\n",
    "  [-0.85123965,\t0.502239263,\t-0.152140661], [-0.393457505,\t-0.541547866,\t-0.742911233],\n",
    "  [-0.636627692,\t-0.206852912,\t0.742911202], [-0.214612471,\t0.295388704,\t0.930960257],\n",
    "  [-0.636627968,\t0.571976163,\t-0.517250519], [-0.740710571,\t0.428718779,\t0.517250479],\n",
    "  [-0.393458505,\t0.906666222,\t0.152140616], [-0.851239609,\t-0.502239346,\t0.152140616],\n",
    "  [-0.34725025,\t-0.112828466,\t0.930960257], [-0.636627678,\t0.206852842,\t-0.742911233],\n",
    "  [-0.74070543,\t-0.654376562,\t-0.152140661], [-0.214612418,\t-0.295388689,\t-0.930960274],\n",
    "  [-0.851242023,\t0.088537901,\t0.517250479], [-0.178843689,\t0.836938992,\t0.517250479],\n",
    "  [-0.214610469,\t0.96477747,\t-0.152140661], [-0.393457576,\t0.541547857,\t0.742911202],\n",
    "  [-0.347252847,\t0.782219509,\t-0.517250519]],\n",
    "  dtype=np.float32\n",
    ")\n",
    "\n",
    "np.savetxt('./beamnorms.csv', b_norms, fmt='%.9f')\n"
   ]
  },
  {
   "attachments": {},
   "cell_type": "markdown",
   "metadata": {},
   "source": [
    "## Creating Beam rays in circle\n",
    "\n",
    "Using equation for polygon\n",
    "\n",
    "$$\n",
    "  R = \\frac{a}{2 \\sin(\\frac{\\pi}{n_0})}\n",
    "$$\n",
    "\n",
    "Where $R$ is radius of vertices (outer radius), $a$ is radius of edges between vertices (apothem, inner radius).\n",
    "\n",
    "$n_0$ is the number of rays in the first ring. Choosing $n_0 = 8.32$ results in a total number of rays of 128, which is ideal for CUDA. \n",
    "\n",
    "$$\n",
    "\\begin{align*}\n",
    "  N &= 128; &n_0 = 8.32 \\\\\n",
    "  N &= 256; &n_0 = 17.00 \\\\\n",
    "  N &= 512; &n_0 = 34.07 \\\\\n",
    "  N &= 1024; &n_0 = 68.15\n",
    "\\end{align*}\n",
    "$$\n",
    "\n",
    "To find the number of rays per ring,\n",
    "\n",
    "$$\n",
    "  n = \\frac{\\pi}{\\arcsin\\left(\\frac{\\sin(\\pi / n_0)}{i}\\right)}\n",
    "$$"
   ]
  },
  {
   "cell_type": "code",
   "execution_count": null,
   "metadata": {},
   "outputs": [],
   "source": [
    "# Radius of Omega Chamber\n",
    "bigR = 1\n",
    "# Radius of beams\n",
    "R = 0.1\n",
    "# Number of concentric rings\n",
    "m = 5\n",
    "# Radius of inner ring\n",
    "dR = R / m\n",
    "# Polygon apothem (inner radius)\n",
    "# a0 = np.sin(np.pi / 8.32)\n",
    "a0 = np.sin(np.pi / 8.32)\n",
    "\n",
    "rays = []\n",
    "for b in b_norms:\n",
    "    # Beam Origin\n",
    "    xb, yb, zb = bigR * b \n",
    "\n",
    "    # If z-component is not zero, compute basis vector\n",
    "    # otherwise use z-hat\n",
    "    if b[2] != 0:\n",
    "        e1 = np.asarray([0, dR, -dR * (b[1] / b[2])])\n",
    "    else:\n",
    "        e1 = np.asarray([0, 0, 1])\n",
    "\n",
    "    # Normalize and compute remaining basis vector\n",
    "    e1 = e1 / np.linalg.norm(e1)\n",
    "    e2 = np.cross(e1, b)\n",
    "    e2 = e2 / np.linalg.norm(e2)\n",
    "\n",
    "    # Ray at center of beam\n",
    "    rays.append([bigR * b, [0.0, 0.0, 0.0], -bigR * b])\n",
    "    for i in range(1, m + 1):\n",
    "        r = i * dR\n",
    "        # calculate number of rays in ring i\n",
    "        n = np.rint(np.pi / np.arcsin(a0 / i)).astype(int)\n",
    "\n",
    "        for j in range(n):\n",
    "            # angular offset\n",
    "            theta = j * (2 * np.pi) / n\n",
    "            # Calculate rotation around beam normal\n",
    "            ray_center = (r * np.cos(theta) * e1) + (r * np.sin(theta) * e2)\n",
    "            ray_origin = ray_center + bigR * b        \n",
    "            ray_end = ray_center - bigR * b\n",
    "\n",
    "            rays.append([ray_origin, ray_center, ray_end])\n",
    "\n",
    "rays = np.asarray(rays)\n",
    "print(rays.shape)\n"
   ]
  },
  {
   "cell_type": "code",
   "execution_count": null,
   "metadata": {},
   "outputs": [],
   "source": [
    "fig = plt.figure(figsize=(12, 10))\n",
    "ax = fig.add_subplot(111, projection='3d')\n",
    "ax.set_xlabel('x')\n",
    "ax.set_ylabel('y')\n",
    "ax.set_zlabel('z')\n",
    "\n",
    "for r in rays:\n",
    "  ax.plot(r[:, 0], r[:, 1], r[:, 2])"
   ]
  },
  {
   "cell_type": "code",
   "execution_count": null,
   "metadata": {},
   "outputs": [],
   "source": []
  }
 ],
 "metadata": {
  "kernelspec": {
   "display_name": "Python 3 (ipykernel)",
   "language": "python",
   "name": "python3"
  },
  "language_info": {
   "codemirror_mode": {
    "name": "ipython",
    "version": 3
   },
   "file_extension": ".py",
   "mimetype": "text/x-python",
   "name": "python",
   "nbconvert_exporter": "python",
   "pygments_lexer": "ipython3",
   "version": "3.9.12"
  },
  "vscode": {
   "interpreter": {
    "hash": "8d4ce5a7d2c48e4c01f6be30b4a71bf6b01aa085a38529f524e05946282706e1"
   }
  }
 },
 "nbformat": 4,
 "nbformat_minor": 2
}
